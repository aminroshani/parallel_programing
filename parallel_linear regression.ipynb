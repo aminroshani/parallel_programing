{
 "cells": [
  {
   "cell_type": "code",
   "execution_count": null,
   "id": "16134959",
   "metadata": {},
   "outputs": [],
   "source": [
    "import multiprocessing\n",
    "print(multiprocessing.cpu_count())"
   ]
  },
  {
   "cell_type": "code",
   "execution_count": null,
   "id": "89514da9",
   "metadata": {},
   "outputs": [],
   "source": [
    "import numpy as np\n",
    "import matplotlib.pyplot as plt\n",
    "import time\n",
    "\n",
    "def getData(size=1000):\n",
    "\n",
    "    np.random.seed(0)\n",
    "    x = np.random.rand(size, 1) \n",
    "    spread=4           \n",
    "    y = 2 + 3 * x + spread* np.random.rand(size, 1)\n",
    "    return x,y"
   ]
  },
  {
   "cell_type": "code",
   "execution_count": null,
   "id": "390e5ace",
   "metadata": {},
   "outputs": [],
   "source": [
    "from multiprocessing import Pool\n",
    "import matplotlib.pyplot as plt\n",
    "import numpy as np\n",
    "from numpy.linalg import inv\n",
    "import time\n",
    "from random import randint\n",
    "\n",
    "def multiply(a):\n",
    "    x=a[0]\n",
    "    y=a[1]\n",
    "    return sum(i[0] * i[1] for i in zip(x, y))\n",
    "\n",
    "\n",
    "if __name__ == '__main__':\n",
    "\n",
    "##  GET DATA POINT\n",
    "    x2,y=getData(10000)\n",
    "\n",
    "    \n",
    "    ## parallel compute\n",
    "    start = time.time()\n",
    "    \n",
    "    x1=[1]*len(x2)\n",
    "    multi = [[x1,x1],[x1,x2],[x2,x2],[x1,y],[x2,y]]\n",
    "    pool = Pool(processes=4)\n",
    "    ans=pool.map(multiply, multi)\n",
    "\n",
    "    inver=inv(np.array([ans[:2],ans[1:3]]))\n",
    "    temp=np.array(ans[3:5])\n",
    "    listW=inver.dot(temp)\n",
    "    \n",
    "    print(\"The Slope =\",listW)\n",
    "    done = time.time()\n",
    "    ## time exc\n",
    "    print(\"Time diff =\",done-start)\n",
    "    \n",
    "    ## plot\n",
    "    \n",
    "    plt.scatter(x2[:100],y[:100],color=\"m\",marker=\"o\",s=30)\n",
    "\n",
    "    x_pred=np.arange(-2000,2000,1)\n",
    "\n",
    "    plt.plot(x_pred,listW[1]*x_pred+listW[0],color='g')\n",
    "    plt.axis([-2000,2000,-2000,2000])\n",
    "    plt.ylabel('y-axis')\n",
    "    plt.xlabel('x-axis')\n",
    "    plt.show()"
   ]
  },
  {
   "cell_type": "code",
   "execution_count": null,
   "id": "4f45da19",
   "metadata": {},
   "outputs": [],
   "source": []
  }
 ],
 "metadata": {
  "kernelspec": {
   "display_name": "Python 3",
   "language": "python",
   "name": "python3"
  },
  "language_info": {
   "codemirror_mode": {
    "name": "ipython",
    "version": 3
   },
   "file_extension": ".py",
   "mimetype": "text/x-python",
   "name": "python",
   "nbconvert_exporter": "python",
   "pygments_lexer": "ipython3",
   "version": "3.8.8"
  }
 },
 "nbformat": 4,
 "nbformat_minor": 5
}
