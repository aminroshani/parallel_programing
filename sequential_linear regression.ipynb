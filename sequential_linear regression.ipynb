{
 "cells": [
  {
   "cell_type": "code",
   "execution_count": 2,
   "id": "8d75eb39",
   "metadata": {},
   "outputs": [
    {
     "name": "stdout",
     "output_type": "stream",
     "text": [
      "Using default learning rate 1\n",
      "Using default iterations 100\n",
      "[array([0]), array([], dtype=int32), array([], dtype=int32), array([], dtype=int32)]\n"
     ]
    },
    {
     "ename": "KeyError",
     "evalue": "0",
     "output_type": "error",
     "traceback": [
      "\u001b[1;31m---------------------------------------------------------------------------\u001b[0m",
      "\u001b[1;31mKeyError\u001b[0m                                  Traceback (most recent call last)",
      "\u001b[1;32m<ipython-input-2-7a7659660d26>\u001b[0m in \u001b[0;36m<module>\u001b[1;34m\u001b[0m\n\u001b[0;32m     87\u001b[0m         \u001b[0mp\u001b[0m\u001b[1;33m.\u001b[0m\u001b[0mjoin\u001b[0m\u001b[1;33m(\u001b[0m\u001b[1;33m)\u001b[0m\u001b[1;33m\u001b[0m\u001b[1;33m\u001b[0m\u001b[0m\n\u001b[0;32m     88\u001b[0m     \u001b[1;32mfor\u001b[0m \u001b[0mj\u001b[0m \u001b[1;32min\u001b[0m \u001b[0mrange\u001b[0m\u001b[1;33m(\u001b[0m\u001b[0mlen\u001b[0m\u001b[1;33m(\u001b[0m\u001b[0mtheta\u001b[0m\u001b[1;33m)\u001b[0m\u001b[1;33m)\u001b[0m\u001b[1;33m:\u001b[0m\u001b[1;33m\u001b[0m\u001b[1;33m\u001b[0m\u001b[0m\n\u001b[1;32m---> 89\u001b[1;33m         \u001b[0mtheta_diff\u001b[0m\u001b[1;33m.\u001b[0m\u001b[0mappend\u001b[0m\u001b[1;33m(\u001b[0m\u001b[0mresults\u001b[0m\u001b[1;33m[\u001b[0m\u001b[0mj\u001b[0m\u001b[1;33m]\u001b[0m\u001b[1;33m)\u001b[0m\u001b[1;33m\u001b[0m\u001b[1;33m\u001b[0m\u001b[0m\n\u001b[0m\u001b[0;32m     90\u001b[0m     \u001b[0mtheta\u001b[0m \u001b[1;33m=\u001b[0m \u001b[0mtheta\u001b[0m \u001b[1;33m-\u001b[0m \u001b[0mtheta_diff\u001b[0m\u001b[1;33m\u001b[0m\u001b[1;33m\u001b[0m\u001b[0m\n\u001b[0;32m     91\u001b[0m \u001b[1;33m\u001b[0m\u001b[0m\n",
      "\u001b[1;32m<string>\u001b[0m in \u001b[0;36m__getitem__\u001b[1;34m(self, *args, **kwds)\u001b[0m\n",
      "\u001b[1;32mC:\\ProgramData\\Anaconda3\\lib\\multiprocessing\\managers.py\u001b[0m in \u001b[0;36m_callmethod\u001b[1;34m(self, methodname, args, kwds)\u001b[0m\n\u001b[0;32m    848\u001b[0m             \u001b[0mdispatch\u001b[0m\u001b[1;33m(\u001b[0m\u001b[0mconn\u001b[0m\u001b[1;33m,\u001b[0m \u001b[1;32mNone\u001b[0m\u001b[1;33m,\u001b[0m \u001b[1;34m'decref'\u001b[0m\u001b[1;33m,\u001b[0m \u001b[1;33m(\u001b[0m\u001b[0mtoken\u001b[0m\u001b[1;33m.\u001b[0m\u001b[0mid\u001b[0m\u001b[1;33m,\u001b[0m\u001b[1;33m)\u001b[0m\u001b[1;33m)\u001b[0m\u001b[1;33m\u001b[0m\u001b[1;33m\u001b[0m\u001b[0m\n\u001b[0;32m    849\u001b[0m             \u001b[1;32mreturn\u001b[0m \u001b[0mproxy\u001b[0m\u001b[1;33m\u001b[0m\u001b[1;33m\u001b[0m\u001b[0m\n\u001b[1;32m--> 850\u001b[1;33m         \u001b[1;32mraise\u001b[0m \u001b[0mconvert_to_error\u001b[0m\u001b[1;33m(\u001b[0m\u001b[0mkind\u001b[0m\u001b[1;33m,\u001b[0m \u001b[0mresult\u001b[0m\u001b[1;33m)\u001b[0m\u001b[1;33m\u001b[0m\u001b[1;33m\u001b[0m\u001b[0m\n\u001b[0m\u001b[0;32m    851\u001b[0m \u001b[1;33m\u001b[0m\u001b[0m\n\u001b[0;32m    852\u001b[0m     \u001b[1;32mdef\u001b[0m \u001b[0m_getvalue\u001b[0m\u001b[1;33m(\u001b[0m\u001b[0mself\u001b[0m\u001b[1;33m)\u001b[0m\u001b[1;33m:\u001b[0m\u001b[1;33m\u001b[0m\u001b[1;33m\u001b[0m\u001b[0m\n",
      "\u001b[1;31mKeyError\u001b[0m: 0"
     ]
    }
   ],
   "source": [
    "import matplotlib.pyplot as plt\n",
    "import numpy as np\n",
    "from numpy.linalg import inv\n",
    "import time\n",
    "from random import randint\n",
    "\n",
    "def tran(data):\n",
    "    return [[row[i] for row in data] for i in range(len(data[0]))]\n",
    "def multi(A,B):\n",
    "    return [[sum(a * b for a, b in zip(A_row, B_col)) \n",
    "                        for B_col in zip(*B)]\n",
    "                                for A_row in A]\n",
    "def getData(num=4):\n",
    "    filename=str(num)+\"-datapoint.txt\"\n",
    "    text_file = open(filename, \"r\")\n",
    "    X=[]\n",
    "    Y=[]\n",
    "    for line in text_file:\n",
    "        x,y =line[:-1].split(\",\")\n",
    "        X.append(int(x))\n",
    "        Y.append(int(y))\n",
    "    text_file.close()\n",
    "    return X,Y\n",
    "\n",
    "## Get Data\n",
    "x,y1=getData(10000) \n",
    "y=[]\n",
    "y.append(y1)\n",
    "\n",
    "start = time.time()\n",
    "\n",
    "matXT=[[1]*len(x),x]\n",
    "matX=tran(matXT)\n",
    "matT=tran(y)\n",
    "matXTT=np.matrix(multi(matXT,matT))\n",
    "matXTX=np.matrix(multi(matXT,matX))\n",
    "matW = inv(matXTX)\n",
    "matW=matW*matXTT\n",
    "\n",
    "listW = matW.tolist()\n",
    "listW= [listW[0][0],listW[1][0]]\n",
    "\n",
    "print(\"The Slope =\",listW)\n",
    "done = time.time()\n",
    "## time exc\n",
    "print(\"Time diff =\",done-start)\n",
    "    \n",
    "## plot\n",
    "\n",
    "plt.scatter(x[:100],y1[:100],color=\"m\",marker=\"o\",s=30)\n",
    "\n",
    "x_pred=np.arange(-2000,2000,1)\n",
    "\n",
    "plt.plot(x_pred,listW[1]*x_pred+listW[0],color='g')\n",
    "##plt.plot([1,2,3,4],[1,4,9,16],'ro')\n",
    "plt.axis([-2000,2000,-2000,2000])\n",
    "plt.ylabel('y-axis')\n",
    "plt.xlabel('x-axis')\n",
    "plt.show()"
   ]
  },
  {
   "cell_type": "code",
   "execution_count": null,
   "id": "fd620c90",
   "metadata": {},
   "outputs": [],
   "source": []
  }
 ],
 "metadata": {
  "kernelspec": {
   "display_name": "Python 3",
   "language": "python",
   "name": "python3"
  },
  "language_info": {
   "codemirror_mode": {
    "name": "ipython",
    "version": 3
   },
   "file_extension": ".py",
   "mimetype": "text/x-python",
   "name": "python",
   "nbconvert_exporter": "python",
   "pygments_lexer": "ipython3",
   "version": "3.8.8"
  }
 },
 "nbformat": 4,
 "nbformat_minor": 5
}
