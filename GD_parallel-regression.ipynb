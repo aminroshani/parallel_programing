{
 "cells": [
  {
   "cell_type": "code",
   "execution_count": null,
   "id": "fe3590bf",
   "metadata": {
    "scrolled": true
   },
   "outputs": [],
   "source": [
    "%matplotlib inline\n",
    "import numpy as np\n",
    "import matplotlib.pyplot as plt\n",
    "import time\n",
    "\n",
    "# size of the training set\n",
    "size=1000\n",
    "# generate random data-set\n",
    "np.random.seed(0)\n",
    "x = np.random.rand(size, 1) \n",
    "\n",
    "           \n",
    "y = 2 + 3 * x + 4* np.random.rand(size, 1)\n",
    "\n",
    "# plot\n",
    "plt.scatter(x,y,s=10)\n",
    "plt.xlabel('x')\n",
    "plt.ylabel('y')\n",
    "plt.show()\n",
    "\n"
   ]
  },
  {
   "cell_type": "code",
   "execution_count": null,
   "id": "df036b8f",
   "metadata": {},
   "outputs": [],
   "source": [
    "class LinearRegressionUsingGD:\n",
    "    def __init__(self, eta=0.05, n_iterations=100):\n",
    "        self.eta = eta\n",
    "        self.n_iterations = n_iterations\n",
    "\n",
    "    def fit(self, x, y):\n",
    "      \n",
    "\n",
    "        self.cost_ = []\n",
    "        self.w_ = np.zeros((x.shape[1], 1))  \n",
    "        m = x.shape[0] \n",
    " \n",
    "        for _ in range(self.n_iterations):\n",
    "            y_pred = np.dot(x, self.w_)\n",
    "            residuals = y_pred - y     \n",
    "            gradient_vector = np.dot(x.T, residuals)   \n",
    "            self.w_ -= (self.eta / m) * gradient_vector \n",
    "            cost = np.sum((residuals ** 2)) / (2 * m)\n",
    "            self.cost_.append(cost)\n",
    "        return self  \n",
    "\n",
    "    def predict(self, x):\n",
    "        return np.dot(x, self.w_)"
   ]
  },
  {
   "cell_type": "code",
   "execution_count": null,
   "id": "781f8118",
   "metadata": {},
   "outputs": [],
   "source": [
    "def scatter_plot(x, y, size=10, x_label='x', y_label='y', color='b'):\n",
    "    plt.scatter(x, y, s=size, color=color)\n",
    "    set_labels(x_label, y_label)\n",
    "\n",
    "\n",
    "def plot(x, y, x_label='x', y_label='y', color='r'):\n",
    "    plt.plot(x, y, color=color)\n",
    "    set_labels(x_label, y_label)\n",
    "\n",
    "\n",
    "def ploty(y, x_label='x', y_label='y'):\n",
    "    plt.plot(y)\n",
    "    set_labels(x_label, y_label)\n",
    "\n",
    "\n",
    "def set_labels(x_label, y_label):\n",
    "    plt.xlabel(x_label)\n",
    "    plt.ylabel(y_label)\n",
    "    plt.show()"
   ]
  },
  {
   "cell_type": "code",
   "execution_count": null,
   "id": "55919411",
   "metadata": {},
   "outputs": [],
   "source": [
    "m = x.shape[0]\n",
    "xx = np.c_[np.ones((m, 1)), x]  \n",
    "\n",
    "print(x.shape)\n",
    "print(xx.shape)"
   ]
  },
  {
   "cell_type": "code",
   "execution_count": null,
   "id": "d23cc329",
   "metadata": {},
   "outputs": [],
   "source": [
    "from sklearn.model_selection import train_test_split\n",
    "\n",
    "X_train, X_test, Y_train, Y_test = train_test_split(xx, y, test_size = 0.2, random_state=5)"
   ]
  },
  {
   "cell_type": "code",
   "execution_count": null,
   "id": "2e24fd25",
   "metadata": {
    "scrolled": true
   },
   "outputs": [],
   "source": [
    "from datetime import datetime\n",
    "\n",
    "start_time = datetime.now()\n",
    "# initializing the model\n",
    "linear_regression_model = LinearRegressionUsingGD(eta=0.05, n_iterations=40)  # learning coeficient\n",
    "\n",
    "# fit/train the model\n",
    "linear_regression_model.fit(X_train, Y_train)\n",
    "\n",
    "# predict values\n",
    "y_train_predict = linear_regression_model.predict(X_train)\n",
    "\n",
    "# model parameters\n",
    "intercept, coeffs = linear_regression_model.w_\n",
    "\n",
    "# cost_function\n",
    "cost_function = linear_regression_model.cost_\n",
    "\n",
    "print(\"Learning curve\")\n",
    "\n",
    "ploty(cost_function, 'no of iterations', 'cost function')\n",
    "print(\"----------------------------------\")\n",
    "\n",
    "print(\"Model performance for training set\")\n",
    "\n",
    "\n",
    "start_time = datetime.now()  # calculating the time of proccess\n",
    "\n",
    "\n",
    "# data points\n",
    "XX_train= np.array([X_train.T[1]]).T\n",
    "\n",
    "plt.scatter(XX_train, Y_train, s=10)\n",
    "plt.xlabel('x_train')\n",
    "plt.ylabel('y_train')\n",
    "\n",
    "# predicted values\n",
    "plt.plot(XX_train, y_train_predict  , color='r')\n",
    "plt.show()\n",
    "\n",
    "end_time = datetime.now()\n",
    "print('Duration: {}'.format(end_time - start_time))"
   ]
  },
  {
   "cell_type": "markdown",
   "id": "e6a96fb9",
   "metadata": {},
   "source": [
    "## async"
   ]
  },
  {
   "cell_type": "code",
   "execution_count": null,
   "id": "cd968f8c",
   "metadata": {},
   "outputs": [],
   "source": [
    "import multiprocessing as mp\n",
    "import timeit\n",
    "# %timeit\n",
    "start_time = datetime.now()\n",
    "\n",
    "pool = mp.Pool(mp.cpu_count())\n",
    "print(pool)\n",
    "linear_regression_model = LinearRegressionUsingGD(eta=0.05, n_iterations=40)\n",
    "linear_regression_model.fit(X_train, Y_train)\n",
    "# y_train_predict = pool.apply(linear_regression_model.predict(X_train))\n",
    "y_train_predict = pool.apply_async(linear_regression_model.predict, args=(X_train)) \n",
    "pool.close() \n",
    "end_time = datetime.now()\n",
    "print('Duration: {}'.format(end_time - start_time))"
   ]
  },
  {
   "cell_type": "markdown",
   "id": "1cef47ae",
   "metadata": {},
   "source": [
    "## sync"
   ]
  },
  {
   "cell_type": "code",
   "execution_count": null,
   "id": "94905483",
   "metadata": {},
   "outputs": [],
   "source": [
    "import multiprocessing as mp\n",
    "start_time = datetime.now()\n",
    "\n",
    "pool = mp.Pool(8)\n",
    "# print(pool)\n",
    "linear_regression_model = LinearRegressionUsingGD(eta=0.05, n_iterations=40)\n",
    "linear_regression_model.fit(X_train, Y_train)\n",
    "y_train_predict = pool.map(linear_regression_model.predict, X_train)\n",
    "pool.close()\n",
    "end_time = datetime.now()\n",
    "print('Duration: {}'.format(end_time - start_time))"
   ]
  },
  {
   "cell_type": "markdown",
   "id": "3d5a4476",
   "metadata": {},
   "source": [
    "## data parallelism"
   ]
  },
  {
   "cell_type": "code",
   "execution_count": null,
   "id": "0b9d8635",
   "metadata": {},
   "outputs": [],
   "source": [
    "import pandas as pd\n",
    "start_time = datetime.now()\n",
    "\n",
    "df = pd.DataFrame(X_train) \n",
    "def parallelize_dataframe(df, func, n_cores=4):\n",
    "    df_split = np.array_split(df, n_cores)\n",
    "    pool = mp.Pool(n_cores)\n",
    "    dff =  pool.map(func, df_split)\n",
    "    dff = np.concatenate((dff[0],dff[1],dff[2],dff[3]),axis=0)\n",
    "      \n",
    "    pool.close()\n",
    "    pool.join()\n",
    "    return dff\n",
    "\n",
    "parallelize_dataframe(df,linear_regression_model.predict,4)\n",
    "\n",
    "end_time = datetime.now()\n",
    "print('Duration: {}'.format(end_time - start_time))"
   ]
  }
 ],
 "metadata": {
  "kernelspec": {
   "display_name": "Python 3",
   "language": "python",
   "name": "python3"
  },
  "language_info": {
   "codemirror_mode": {
    "name": "ipython",
    "version": 3
   },
   "file_extension": ".py",
   "mimetype": "text/x-python",
   "name": "python",
   "nbconvert_exporter": "python",
   "pygments_lexer": "ipython3",
   "version": "3.8.8"
  }
 },
 "nbformat": 4,
 "nbformat_minor": 5
}
